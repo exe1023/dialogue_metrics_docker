{
 "cells": [
  {
   "cell_type": "code",
   "execution_count": 1,
   "metadata": {},
   "outputs": [],
   "source": [
    "f = open('fedserverlog.tmp')"
   ]
  },
  {
   "cell_type": "code",
   "execution_count": 2,
   "metadata": {},
   "outputs": [],
   "source": [
    "datas = f.readlines()"
   ]
  },
  {
   "cell_type": "code",
   "execution_count": 7,
   "metadata": {},
   "outputs": [],
   "source": [
    "logs = []\n",
    "flag = False\n",
    "for i, line in enumerate(datas):\n",
    "    if 'Received 306 Requests' in line:\n",
    "        flag = True\n",
    "    if flag:\n",
    "        logs.append(line)\n",
    "\n",
    "    "
   ]
  },
  {
   "cell_type": "code",
   "execution_count": 23,
   "metadata": {},
   "outputs": [
    {
     "name": "stdout",
     "output_type": "stream",
     "text": [
      "2020-09-15 18:47:42,490,490 root INFO Response Scores [{'interesting': -0.017667452494302793, 'engaging': 0.0006434122721366009, 'specific': -0.03350512186686139, 'relevant': 9.480916976928711, 'correct': 9.505123138427734, 'semantically appropriate': -0.06623077392578125, 'understandable': 0.02800917625427246, 'fluent': -0.0024401346842441995, 'coherent': 9.36472225189209, 'error recovery': 9.425043741861979, 'consistent': 9.37405252456665, 'diverse': 9.451067288716635, 'depth': 9.515837669372559, 'likeable': 0.12295087178548236, 'understand': 9.501524925231934, 'flexible': 0.0373682975769043, 'informative': -0.0701146125793457, 'inquisitive': -0.013430595397949219}]\n",
      "\n",
      "2020-09-15 14:59:14,030,30 root INFO Received Data {'dialogid': 'kimberly.sanders@csl.sri.com_07-27_22:33_to_08-04_05:11_5_TP1', 'dialogue_context': [{'agent': 'nathan.maynes@trssllc.org', 'text': ' IM1 email to UID2/kimberly.sanderscsl.sri.com from UID5/nathan.maynestrssllc.org at 20200727_223340\\n    subject:  [EXTERNAL] TA3-LIVE ASED Testbeds\\n\\n     Hi All, I am working on identifying and recruiting new testbeds for ASED. Blake and Zach suggested I speak with all of you regarding your experiences as a testbed. Do you have\\n time for a teleconference the week of July 27? Thanks, Nathan\\n    \\n    Hi All, I am working on identifying and recruiting new testbeds for ASED. Blake and Zach suggested I speak with all of you regarding your experiences as\\n     a testbed. Do you have time for a teleconference the week of July 27? Thanks, Nathan\\n'}], 'response_list': [\" OM1 email from UID2/kimberly.sanderscsl.sri.com to nathan.maynestrssllc.org sent 20200728_002724\\n\\n     Sorry for taking such a long time to reply. This may sound peculiar, but I'll ask anyway.\\n    Would you send over a Word document containing this exact content? I'd like to affix an addendum with some comments and send it to some folks for whom it would be pertinent, bu\\nt my stupid email software will not allow me to C + P (copy and paste) from it.\\n    Cheers,\\n    Kimberly\\n    --\\n    Kimberly Sanders\\n    Scientist II\\n    SRI\\n    333 Ravenswood Avenue\\n    Menlo Park, CA 94025\\n    website\\n\"], 'agent_name': 'kimberly.sanders@csl.sri.com'}\n",
      "\n"
     ]
    }
   ],
   "source": [
    "useful_logs = logs[:-29]\n",
    "print(useful_logs[-1])\n",
    "print(useful_logs[1])\n",
    "useful_logs = useful_logs[1:]"
   ]
  },
  {
   "cell_type": "code",
   "execution_count": 37,
   "metadata": {},
   "outputs": [],
   "source": [
    "import json\n",
    "import ast\n",
    "body = []\n",
    "for i in range(0, len(useful_logs), 2):\n",
    "    data = useful_logs[i].split()[6:]\n",
    "    data = ast.literal_eval(' '.join(data))\n",
    "    score = useful_logs[i+1].split()[6:]\n",
    "    score = ast.literal_eval(' '.join(score))\n",
    "    data['response_scores'] = score\n",
    "    body.append(data)\n"
   ]
  },
  {
   "cell_type": "code",
   "execution_count": 38,
   "metadata": {},
   "outputs": [],
   "source": [
    "len(body)\n",
    "json.dump({'Results': body}, open('alldialog_fed.json', 'w'))"
   ]
  },
  {
   "cell_type": "code",
   "execution_count": 39,
   "metadata": {},
   "outputs": [
    {
     "name": "stdout",
     "output_type": "stream",
     "text": [
      "306\n"
     ]
    }
   ],
   "source": [
    "print(len(body))"
   ]
  },
  {
   "cell_type": "code",
   "execution_count": null,
   "metadata": {},
   "outputs": [],
   "source": []
  }
 ],
 "metadata": {
  "kernelspec": {
   "display_name": "Python 3",
   "language": "python",
   "name": "python3"
  },
  "language_info": {
   "codemirror_mode": {
    "name": "ipython",
    "version": 3
   },
   "file_extension": ".py",
   "mimetype": "text/x-python",
   "name": "python",
   "nbconvert_exporter": "python",
   "pygments_lexer": "ipython3",
   "version": "3.7.9"
  }
 },
 "nbformat": 4,
 "nbformat_minor": 4
}
